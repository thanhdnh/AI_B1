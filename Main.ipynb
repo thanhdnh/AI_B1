{
 "cells": [
  {
   "cell_type": "markdown",
   "metadata": {},
   "source": [
    "**1. Hàm tổng 2 số**"
   ]
  },
  {
   "cell_type": "code",
   "execution_count": 12,
   "metadata": {},
   "outputs": [
    {
     "data": {
      "text/plain": [
       "3"
      ]
     },
     "execution_count": 12,
     "metadata": {},
     "output_type": "execute_result"
    }
   ],
   "source": [
    "def tinhtong(a,b):\n",
    "    return a + b\n",
    "tinhtong(1,2)"
   ]
  },
  {
   "cell_type": "markdown",
   "metadata": {},
   "source": [
    "**2. Hàm tổng 2 xâu**"
   ]
  },
  {
   "cell_type": "code",
   "execution_count": 13,
   "metadata": {},
   "outputs": [
    {
     "data": {
      "text/plain": [
       "'hello python'"
      ]
     },
     "execution_count": 13,
     "metadata": {},
     "output_type": "execute_result"
    }
   ],
   "source": [
    "def sum_string(a, b):\n",
    "    return a + b\n",
    "sum_string(\"hello\", \" python\")"
   ]
  },
  {
   "cell_type": "markdown",
   "metadata": {},
   "source": [
    "**3. Hàm tổng hai list**"
   ]
  },
  {
   "cell_type": "code",
   "execution_count": 14,
   "metadata": {},
   "outputs": [
    {
     "data": {
      "text/plain": [
       "[3, 5, 7]"
      ]
     },
     "execution_count": 14,
     "metadata": {},
     "output_type": "execute_result"
    }
   ],
   "source": [
    "def sum_arr(a,b):\n",
    "    res = []\n",
    "    for i in range(len(a)):\n",
    "        res.append(a[i]+b[i])\n",
    "    return res\n",
    "sum_arr([1,2,3], [2,3,4])"
   ]
  },
  {
   "cell_type": "markdown",
   "metadata": {},
   "source": [
    "**4. Sắp xếp list theo chiều tăng**"
   ]
  },
  {
   "cell_type": "code",
   "execution_count": 15,
   "metadata": {},
   "outputs": [
    {
     "name": "stdout",
     "output_type": "stream",
     "text": [
      "[2, 5, 7]\n"
     ]
    }
   ],
   "source": [
    "def sortrank(arr):\n",
    "    for i in range(len(arr)-1):\n",
    "        for j in range(i+1,len(arr)):\n",
    "            if arr[i]>arr[j]:\n",
    "                x = arr[i]\n",
    "                arr[i]=arr[j]\n",
    "                arr[j]= x\n",
    "arr=[5,2,7]\n",
    "sortrank(arr)\n",
    "print(arr)\n"
   ]
  },
  {
   "cell_type": "markdown",
   "metadata": {},
   "source": [
    "**5. Cài đặt thuật toán Binary Search**"
   ]
  },
  {
   "cell_type": "code",
   "execution_count": 20,
   "metadata": {},
   "outputs": [
    {
     "data": {
      "text/plain": [
       "1"
      ]
     },
     "execution_count": 20,
     "metadata": {},
     "output_type": "execute_result"
    }
   ],
   "source": [
    "def binary_search(x,l,r,arr):\n",
    "    if (r>=l): \n",
    "       mid = (l+r)/2\n",
    "       mid = round(mid) \n",
    "\n",
    "    if arr[mid] == x : \n",
    "        return mid \n",
    "    elif arr[mid] > x :\n",
    "        r = mid \n",
    "        return  binary_search(x,l,r,arr)\n",
    "    else :\n",
    "        l = mid\n",
    "        return binary_search(x,l,r,arr)\n",
    "\n",
    "arr = [2,3,5,7,9]\n",
    "x = 3\n",
    "binary_search(x,0,len(arr),arr)"
   ]
  },
  {
   "cell_type": "markdown",
   "metadata": {},
   "source": [
    "**6. Hướng đối tượng**\n",
    "\n",
    "***Ví dụ về lớp Complex***"
   ]
  },
  {
   "cell_type": "code",
   "execution_count": 28,
   "metadata": {},
   "outputs": [
    {
     "name": "stdout",
     "output_type": "stream",
     "text": [
      "3+1i\n",
      "1+3i\n",
      "4+4i\n",
      "2-2i\n",
      "0+10i\n"
     ]
    }
   ],
   "source": [
    "class Complex:\n",
    "    real = 0\n",
    "    im = 0\n",
    "    \n",
    "    def __init__(self,real,im)  :\n",
    "        self.real=real\n",
    "        self.im=im\n",
    "    def __str__(self):\n",
    "        if(self.im<0):\n",
    "            return str(self.real) + \"\" + str(self.im) + \"i\"\n",
    "        else:\n",
    "            return str(self.real) + \"+\" + str(self.im) + \"i\"\n",
    "    def add(self,c1):\n",
    "        return Complex(self.real + c1.real, self.im + c1.im)\n",
    "    def minus(self,c1):\n",
    "        return Complex(self.real - c1.real, self.im - c1.im)\n",
    "    def multiply(self, c1):\n",
    "        return Complex(self.real * c1.real - self.im * c1.im, self.real * c1.im + self.im * c1.real)\n",
    "\n",
    "c1 = Complex(3, 1)\n",
    "c2 = Complex(1, 3)\n",
    "print(c1)\n",
    "print(c2)\n",
    "c3 = c1.add(c2)\n",
    "c4 = c1.minus(c2)\n",
    "c5 = c1.multiply(c2)\n",
    "print(c3)\n",
    "print(c4)\n",
    "print(c5)"
   ]
  }
 ],
 "metadata": {
  "kernelspec": {
   "display_name": "Python 3",
   "language": "python",
   "name": "python3"
  },
  "language_info": {
   "codemirror_mode": {
    "name": "ipython",
    "version": 3
   },
   "file_extension": ".py",
   "mimetype": "text/x-python",
   "name": "python",
   "nbconvert_exporter": "python",
   "pygments_lexer": "ipython3",
   "version": "3.10.3"
  },
  "orig_nbformat": 4
 },
 "nbformat": 4,
 "nbformat_minor": 2
}
