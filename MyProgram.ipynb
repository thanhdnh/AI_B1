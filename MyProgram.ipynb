{
 "cells": [
  {
   "cell_type": "markdown",
   "metadata": {},
   "source": [
    "**3 Hàm tính tổng: tổng 2 số, tổng 2 xâu, tổng 2 danh sách**"
   ]
  },
  {
   "cell_type": "code",
   "execution_count": 33,
   "metadata": {},
   "outputs": [
    {
     "name": "stdout",
     "output_type": "stream",
     "text": [
      "3\n"
     ]
    }
   ],
   "source": [
    "def Tong2So(a,b):\n",
    "    return a + b\n",
    "\n",
    "so1,so2 = 1,2\n",
    "print(Tong2So(so1,so2))\n"
   ]
  },
  {
   "cell_type": "code",
   "execution_count": 34,
   "metadata": {},
   "outputs": [
    {
     "name": "stdout",
     "output_type": "stream",
     "text": [
      "abc123\n"
     ]
    }
   ],
   "source": [
    "def Tong2xau(a,b):\n",
    "    return a+b\n",
    "print(Tong2xau(\"abc\",\"123\"))"
   ]
  },
  {
   "cell_type": "code",
   "execution_count": 35,
   "metadata": {},
   "outputs": [
    {
     "data": {
      "text/plain": [
       "[6, 8, 10, 12]"
      ]
     },
     "execution_count": 35,
     "metadata": {},
     "output_type": "execute_result"
    }
   ],
   "source": [
    "def TongHaiDS(a, b):\n",
    "    listTong = []\n",
    "    for i in range(len(a)):\n",
    "        listTong.append(a[i] + b[i])\n",
    "    return listTong\n",
    "\n",
    "list1 = [1, 2, 3, 4]\n",
    "list2 = [5, 6, 7, 8]\n",
    "\n",
    "TongHaiDS(list1, list2)"
   ]
  },
  {
   "cell_type": "code",
   "execution_count": 36,
   "metadata": {},
   "outputs": [
    {
     "data": {
      "text/plain": [
       "[6, 5, 12, 9]"
      ]
     },
     "execution_count": 36,
     "metadata": {},
     "output_type": "execute_result"
    }
   ],
   "source": [
    "def TongHaiList(a, b):\n",
    "    return [a[i] + b[i] for i in range(len(a))]\n",
    "\n",
    "TongHaiList([1, 3, 7 ,8], [5, 2, 5, 1])"
   ]
  },
  {
   "cell_type": "markdown",
   "metadata": {},
   "source": [
    "**Binary Search**"
   ]
  },
  {
   "cell_type": "code",
   "execution_count": 37,
   "metadata": {},
   "outputs": [
    {
     "name": "stdout",
     "output_type": "stream",
     "text": [
      "3\n"
     ]
    }
   ],
   "source": [
    "def BinSearch(x, list, f, t):\n",
    "    mid=round((f+t)/2)\n",
    "    if (list[mid]==x):\n",
    "        return mid\n",
    "    elif (x>list[mid]):\n",
    "        return BinSearch(x,list,mid,t)\n",
    "    else: \n",
    "        return BinSearch(x,list,f,mid)\n",
    "list1=[1,4,5,7,8]\n",
    "print(BinSearch(7,list1,0,len(list1)))"
   ]
  },
  {
   "cell_type": "markdown",
   "metadata": {},
   "source": [
    "**OOP in Python**"
   ]
  },
  {
   "cell_type": "code",
   "execution_count": 17,
   "metadata": {},
   "outputs": [
    {
     "name": "stdout",
     "output_type": "stream",
     "text": [
      "1/2\n",
      "2/3\n",
      "7.0/6.0\n",
      "1.0/3.0\n",
      "3.0/4.0\n",
      "True\n",
      "7.0/6.0\n",
      "1.0/3.0\n",
      "3.0/4.0\n",
      "False\n",
      "True\n",
      "False\n"
     ]
    }
   ],
   "source": [
    "#Operator overloading: https://docs.python.org/3/library/operator.html#mapping-operators-to-functions\n",
    "import math\n",
    "class PhanSo():\n",
    "    tuSo = 0\n",
    "    mauSo = 1\n",
    "    def __init__(self,tuSo,mauSo):\n",
    "        self.tuSo = tuSo\n",
    "        self.mauSo = mauSo\n",
    "        \n",
    "    def __str__(self):\n",
    "        return str(self.tuSo) +\"/\"+ str(self.mauSo)\n",
    "    def __add__(self,ps):\n",
    "        return PhanSo(self.tuSo*ps.mauSo + ps.tuSo*self.mauSo, self.mauSo * ps.mauSo)\n",
    "    def Cong (self,ps):\n",
    "        return PhanSo(self.tuSo*ps.mauSo + ps.tuSo*self.mauSo, self.mauSo * ps.mauSo)\n",
    "    def Nhan(self,ps):\n",
    "        return PhanSo(self.tuSo*ps.tuSo,self.mauSo*ps.mauSo)\n",
    "    def __mul__(self,ps):\n",
    "        return PhanSo(self.tuSo*ps.tuSo,self.mauSo*ps.mauSo)\n",
    "    def Chia(self,ps):\n",
    "        return PhanSo(self.tuSo*ps.mauSo,self.mauSo*ps.tuSo)\n",
    "    def __truediv__(self,ps):\n",
    "        return PhanSo(self.tuSo*ps.mauSo,self.mauSo*ps.tuSo)\n",
    "    def RutGon(self):\n",
    "        ucln = math.gcd(self.tuSo,self.mauSo)\n",
    "        return PhanSo(self.tuSo/ucln,self.mauSo/ucln)\n",
    "    def __cmp__(self, ps):\n",
    "        if (self.tuSo*ps.mauSo == self.mauSo*ps.tuSo): \n",
    "            return 0\n",
    "        elif (self.tuSo*ps.mauSo > self.mauSo*ps.tuSo):\n",
    "            return 1\n",
    "        else: return -1\n",
    "    def __gt__(self, ps): #so sánh lớn greater than\n",
    "        if (self.tuSo*ps.mauSo > self.mauSo*ps.tuSo):\n",
    "            return True\n",
    "        else: return False\n",
    "    def __lt__(self, ps): #so sánh bé less than\n",
    "        if (self.tuSo*ps.mauSo < self.mauSo*ps.tuSo):\n",
    "            return True\n",
    "        else: return False\n",
    "    def __eq__(self, ps): #so sánh bằng\n",
    "        if (self.tuSo*ps.mauSo == self.mauSo*ps.tuSo):\n",
    "            return True\n",
    "        else: return False\n",
    "\n",
    "#Test\n",
    "p1 = PhanSo(1, 2)\n",
    "p2 = PhanSo(2, 3)\n",
    "print(p1)\n",
    "print(p2)\n",
    "print(p1.Cong(p2).RutGon())\n",
    "print(p1.Nhan(p2).RutGon())\n",
    "print(p1.Chia(p2).RutGon())\n",
    "print(p1!=p2)\n",
    "print((p1+p2).RutGon())\n",
    "print((p1*p2).RutGon())\n",
    "print((p1/p2).RutGon())\n",
    "print(p1>p2)\n",
    "print(p1<p2)\n",
    "print(p1==p2)\n"
   ]
  }
 ],
 "metadata": {
  "kernelspec": {
   "display_name": "Python 3",
   "language": "python",
   "name": "python3"
  },
  "language_info": {
   "codemirror_mode": {
    "name": "ipython",
    "version": 3
   },
   "file_extension": ".py",
   "mimetype": "text/x-python",
   "name": "python",
   "nbconvert_exporter": "python",
   "pygments_lexer": "ipython3",
   "version": "3.10.3"
  },
  "orig_nbformat": 4
 },
 "nbformat": 4,
 "nbformat_minor": 2
}
